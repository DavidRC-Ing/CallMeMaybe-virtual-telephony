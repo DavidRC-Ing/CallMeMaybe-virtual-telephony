{
 "cells": [
  {
   "cell_type": "markdown",
   "id": "5d0e0ed1",
   "metadata": {},
   "source": [
    "# CallMeMaybe-virtual-telephony"
   ]
  },
  {
   "cell_type": "markdown",
   "id": "d3838fd4",
   "metadata": {},
   "source": [
    "# Introduccion\n",
    "\n",
    " El análisis de datos se ha convertido en una herramienta esencial para optimizar procesos y mejorar la toma de decisiones en servicios de telefonía virtual. Plataformas como CallMeMaybe generan grandes volúmenes de información sobre la actividad de sus operadores, lo que abre la puerta a identificar patrones, detecta áreas de mejora y eleva la calidad del servicio ofrecido a los clientes.\n",
    "\n",
    " En este contexto, surge la necesidad de analizar de manera sistemática los registros de llamadas para abordar un desafío concreto: identificar a los operadores menos eficaces dentro de la organización. La ineficacia puede manifestarse a través de indicadores como un alto número de llamadas entrantes perdidas, tiempos de espera prolongados y, en el caso de operadores responsables de llamadas salientes, un bajo volumen de actividad.\n",
    "\n",
    " A través de técnicas de análisis exploratorio de datos y la aplicación de métricas clave de desempeño, es posible transformar los datos brutos en información accionable. Este proceso no solo permite detectar a los operadores que requieren apoyo o capacitación adicional, sino que también contribuye a la mejora continua del servicio y la satisfacción de los clientes."
   ]
  },
  {
   "cell_type": "markdown",
   "id": "9877a344",
   "metadata": {},
   "source": [
    "# Objetivo General\n",
    "\n",
    "Analizar los datos de uso del servicio de telefonía virtual CallMeMaybe para identificar a los operadores menos eficaces y proporcionar información que permita mejorar la gestión y calidad del servicio.\n",
    "\n"
   ]
  },
  {
   "cell_type": "markdown",
   "id": "892ef0f4",
   "metadata": {},
   "source": [
    "# Descripcion de los datasets: \n",
    "\n",
    "El conjunto de datos `telecom_dataset_us.csv` contiene las siguientes columnas:\n",
    "\n",
    "- `user_id`: ID de la cuenta de cliente\n",
    "- `date`: fecha en la que se recuperaron las estadísticas\n",
    "- `direction`: \"dirección\" de llamada (`out` para saliente, `in` para entrante)\n",
    "- `internal`: si la llamada fue interna (entre los operadores de un cliente o clienta)\n",
    "- `operator_id`: identificador del operador\n",
    "- `is_missed_call`: si fue una llamada perdida\n",
    "- `calls_count`: número de llamadas\n",
    "- `call_duration`: duración de la llamada (sin incluir el tiempo de espera)\n",
    "- `total_call_duration`: duración de la llamada (incluido el tiempo de espera)\n",
    "\n",
    "El conjunto de datos `telecom_clients_us.csv` tiene las siguientes columnas:\n",
    "\n",
    "- `user_id`: ID de usuario/a\n",
    "- `tariff_plan`: tarifa actual de la clientela\n",
    "- `date_start`: fecha de registro de la clientela"
   ]
  },
  {
   "cell_type": "code",
   "execution_count": 411,
   "id": "861d4ac6",
   "metadata": {},
   "outputs": [],
   "source": [
    "# Importar Librerías necesarias\n",
    "import pandas as pd\n",
    "import numpy as np\n",
    "import matplotlib.pyplot as plt\n",
    "import seaborn as sns\n",
    "from datetime import datetime, timedelta\n"
   ]
  },
  {
   "cell_type": "markdown",
   "id": "9739b5d9",
   "metadata": {},
   "source": [
    "## Carga de los Datasets\n",
    "\n"
   ]
  },
  {
   "cell_type": "code",
   "execution_count": 412,
   "id": "31e98a67",
   "metadata": {},
   "outputs": [
    {
     "name": "stdout",
     "output_type": "stream",
     "text": [
      "Dataset de telecomunicaciones:\n",
      "<class 'pandas.core.frame.DataFrame'>\n",
      "RangeIndex: 53902 entries, 0 to 53901\n",
      "Data columns (total 9 columns):\n",
      " #   Column               Non-Null Count  Dtype  \n",
      "---  ------               --------------  -----  \n",
      " 0   user_id              53902 non-null  int64  \n",
      " 1   date                 53902 non-null  object \n",
      " 2   direction            53902 non-null  object \n",
      " 3   internal             53785 non-null  object \n",
      " 4   operator_id          45730 non-null  float64\n",
      " 5   is_missed_call       53902 non-null  bool   \n",
      " 6   calls_count          53902 non-null  int64  \n",
      " 7   call_duration        53902 non-null  int64  \n",
      " 8   total_call_duration  53902 non-null  int64  \n",
      "dtypes: bool(1), float64(1), int64(4), object(3)\n",
      "memory usage: 3.3+ MB\n",
      "\n",
      "Dataset de clientes:\n",
      "<class 'pandas.core.frame.DataFrame'>\n",
      "RangeIndex: 732 entries, 0 to 731\n",
      "Data columns (total 3 columns):\n",
      " #   Column       Non-Null Count  Dtype \n",
      "---  ------       --------------  ----- \n",
      " 0   user_id      732 non-null    int64 \n",
      " 1   tariff_plan  732 non-null    object\n",
      " 2   date_start   732 non-null    object\n",
      "dtypes: int64(1), object(2)\n",
      "memory usage: 17.3+ KB\n"
     ]
    }
   ],
   "source": [
    "# Carga y definición de los Datasets\n",
    "\n",
    "dataset=pd.read_csv('Data_sets/telecom_dataset_us.csv', sep=\",\")\n",
    "clients=pd.read_csv(\"Data_sets/telecom_clients_us.csv\", sep=\",\")\n",
    "\n",
    "# Información de los Datasets\n",
    "print(\"Dataset de telecomunicaciones:\")\n",
    "dataset.info()\n",
    "\n",
    "print(\"\\nDataset de clientes:\")\n",
    "clients.info()\n",
    "\n"
   ]
  },
  {
   "cell_type": "code",
   "execution_count": 413,
   "id": "cfae5cf4",
   "metadata": {},
   "outputs": [
    {
     "name": "stdout",
     "output_type": "stream",
     "text": [
      "\n",
      "Muestra del Dataset de telecomunicaciones:\n",
      "       user_id                       date direction internal  operator_id  \\\n",
      "31698   167445  2019-11-05 00:00:00+03:00        in    False     920732.0   \n",
      "17518   166939  2019-11-24 00:00:00+03:00        in    False          NaN   \n",
      "53800   168598  2019-11-25 00:00:00+03:00        in    False     958394.0   \n",
      "2839    166482  2019-09-30 00:00:00+03:00        in    False          NaN   \n",
      "53237   168412  2019-11-06 00:00:00+03:00       out    False     953458.0   \n",
      "33467   167497  2019-10-11 00:00:00+03:00        in    False          NaN   \n",
      "18768   166983  2019-09-13 00:00:00+03:00        in    False     901880.0   \n",
      "39479   167742  2019-11-22 00:00:00+03:00        in    False     955032.0   \n",
      "22542   167060  2019-11-22 00:00:00+03:00       out    False     930912.0   \n",
      "8454    166658  2019-09-13 00:00:00+03:00       out    False     890402.0   \n",
      "\n",
      "       is_missed_call  calls_count  call_duration  total_call_duration  \n",
      "31698           False            2            309                  320  \n",
      "17518            True            4              0                  128  \n",
      "53800           False            4           2108                 2134  \n",
      "2839             True            1              0                    2  \n",
      "53237            True           20              0                  389  \n",
      "33467            True            5              0                  208  \n",
      "18768           False           39           4149                 4315  \n",
      "39479           False            2             89                  110  \n",
      "22542           False            3            480                  509  \n",
      "8454            False            8           1387                 1529  \n",
      "(53902, 9)\n",
      "\n",
      "Muestra del Dataset de clientes:\n",
      "     user_id tariff_plan  date_start\n",
      "535   168322           B  2019-10-22\n",
      "600   167338           B  2019-09-12\n",
      "296   167016           C  2019-08-28\n",
      "708   168025           B  2019-10-09\n",
      "342   167014           C  2019-08-28\n",
      "426   167227           C  2019-09-06\n",
      "467   166908           C  2019-08-23\n",
      "20    167838           A  2019-10-02\n",
      "38    166879           A  2019-08-22\n",
      "306   167252           C  2019-09-09\n",
      "(732, 3)\n"
     ]
    }
   ],
   "source": [
    "# Muestra de los Datasets\n",
    "print(\"\\nMuestra del Dataset de telecomunicaciones:\")\n",
    "print(dataset.sample(10))\n",
    "print(dataset.shape)\n",
    "\n",
    "print(\"\\nMuestra del Dataset de clientes:\")\n",
    "print(clients.sample(10))\n",
    "print(clients.shape)\n"
   ]
  },
  {
   "cell_type": "markdown",
   "id": "65e95b1c",
   "metadata": {},
   "source": [
    "## DEACUERDO A LA LECTURA DE LOS DATASETS, HACEMOS UN DESGLOSE DEL PROYECTO TENTATIVAMENTE DE LA SIGUIENTE MANERA:.\n",
    "\n",
    "### POSIBLE ESTRUCTURA DEL PROYECTO, CABE RESALTAR QUE A MEDIDA DEL DESARROLLO DEL PROYECTO, SE PUEDEN HACER AJUSTES A ESTA ESTRUCTURA, CON EL FIN DE MEJORAR LA CALIDAD DEL ANALISIS Y LOS RESULTADOS.\n",
    "\n",
    "### Análisis Exploratorio de Datos (EDA)\n",
    "- Cargar y revisar los datasets (`telecom_dataset_us.csv` y `telecom_clients_us.csv`).\n",
    "- Limpiar y preparar los datos (manejo de valores nulos, tipos de datos, duplicados).\n",
    "- Analizar la distribución de llamadas por tipo, operador y cliente.\n",
    "- Visualizar tendencias, patrones y posibles outliers.\n",
    "\n",
    "### Visualización de Datos\n",
    "- Crear gráficos para ilustrar la distribución de llamadas entrantes y salientes.\n",
    "- Comparar la actividad de los operadores mediante gráficos de barras o líneas.\n",
    "- Visualizar la duración de las llamadas y tiempos de espera.\n",
    "### Identificación de Operadores y Clientes\n",
    "- Identificar los operadores únicos y sus respectivos clientes.\n",
    "- Agrupar los datos por operador y cliente para facilitar el análisis posterior.\n",
    "- Identificar los tipos de planes de tarifas asociados a cada cliente.\n",
    "### Análisis de Llamadas Entrantes y Salientes\n",
    "- Calcular el número total de llamadas entrantes y salientes por operador.\n",
    "- Analizar la tasa de llamadas perdidas por operador.\n",
    "- Evaluar el tiempo promedio de espera en llamadas entrantes.\n",
    "- Calcular la duración promedio de las llamadas atendidas por cada operador.\n",
    "- Evaluar el volumen total de llamadas gestionadas por cada operador.\n",
    "### Análisis de Llamadas Internas\n",
    "- Calcular la tasa de llamadas internas perdidas por operador.\n",
    "- Evaluar el número de llamadas internas realizadas por cada operador.\n",
    "\n",
    "### Cálculo de Métricas Clave\n",
    "- Definir métricas clave de rendimiento (KPIs) para evaluar la eficacia de los operadores.\n",
    "\n",
    "### Cálculo de KPIs Relevantes\n",
    "- Definir y calcular los KPIs seleccionados para cada operador.\n",
    "- Analizar la distribución de los KPIs y comparar entre operadores.\n",
    "\n",
    "### Identificación de Operadores Ineficaces Basados en KPIs e Bibliografica Actualizada\n",
    "- Establecer criterios o umbrales para considerar a un operador como ineficaz.\n",
    "- Listar y visualizar los operadores que cumplen con los criterios de ineficacia.\n",
    "\n",
    "### Pruebas de Hipótesis Estadísticas teniendo en cuenta el tipo de plan\n",
    "- Formular hipótesis sobre las diferencias entre operadores eficaces e ineficaces.\n",
    "- Aplicar pruebas estadísticas para validar las diferencias observadas entre los tipos de planes y posibles similitudes estadisticas o diferencias claves del comportamiento.\n",
    "\n",
    "### Recomendaciones y Conclusiones\n",
    "- Generar recomendaciones basadas en los hallazgos.\n",
    "- Presentar conclusiones y posibles acciones para la mejora del servicio.\n",
    "\n",
    "---\n",
    "\n",
    "## KPIs Recomendados\n",
    "\n",
    "- **Tasa de llamadas entrantes perdidas por operador**  \n",
    "  Proporción de llamadas entrantes (internas y externas) no atendidas.  \n",
    "  Fórmula:  \n",
    "   Tasa de llamadas perdidas = Llamadas entrantes perdidas \\ Total de llamadas entrantes\n",
    "\n",
    "- **Tiempo promedio de espera en llamadas entrantes**  \n",
    "  Promedio del tiempo de espera antes de que una llamada sea atendida.  \n",
    "  Fórmula:  \n",
    "  Tiempo de espera= total_call_duration - call_duration\n",
    "  \n",
    "\n",
    "- **Número de llamadas salientes realizadas**  \n",
    "  Total de llamadas salientes hechas por cada operador.\n",
    "\n",
    "- **Tasa de llamadas internas perdidas**  \n",
    "  Proporción de llamadas internas no atendidas por cada operador.\n",
    "\n",
    "- **Duración promedio de llamada**  \n",
    "  Promedio de la duración de las llamadas atendidas por cada operador.\n",
    "\n",
    "- **Volumen total de llamadas gestionadas**  \n",
    "  Suma total de llamadas (entrantes, salientes, internas) gestionadas por cada operador.\n",
    "\n",
    "---\n",
    "\n",
    "## Fuentes Bibliográficas\n",
    "\n",
    "- [Zendesk: Call Center Metrics and KPIs](https://www.zendesk.com/blog/call-center-metrics/)\n",
    "- [Talkdesk: The 15 Most Important Call Center Metrics](https://www.talkdesk.com/blog/call-center-metrics/)\n",
    "- [Freshdesk: Call Center KPIs](https://freshdesk.com/customer-support/call-center-kpis-blog/)\n",
    "- [ResearchGate: Key Performance Indicators for Call Centers](https://www.researchgate.net/publication/327964964_Key_Performance_Indicators_for_Call_Centers)\n",
    "- [IBM: Call Center Analytics](https://www.ibm.com/topics/call-center-analytics)\n",
    "\n",
    "---"
   ]
  },
  {
   "cell_type": "markdown",
   "id": "c60077bf",
   "metadata": {},
   "source": [
    "# Analisis exploratorio de datos EDA: \n",
    "\n",
    "- De acuerdo a la lectura de los datasets, se hace necesario la correcta designacion de los tipos de datos, con el fin de poder establecer las relaciones entre las variables y realizar un analisis mas profundo de los datos.\n"
   ]
  },
  {
   "cell_type": "markdown",
   "id": "84fcd8d9",
   "metadata": {},
   "source": [
    " - Para fines de analisis, se hace neseario sustituir los valores 'NAN' del Id de operador, ya que estos representandan al rededor de un 15% de los datos, tal porcentaje al ser eliminado puede afectar el analisis de patrones o posibles tendencias.\n",
    "\n",
    " - De acuerdo a la natualeza de la informacion y la periodicidad, no sera necesario eliminar duplicados, ya que cada registro representa un dato unico. \n",
    " "
   ]
  },
  {
   "cell_type": "code",
   "execution_count": 414,
   "id": "aa4a1e2e",
   "metadata": {},
   "outputs": [
    {
     "name": "stdout",
     "output_type": "stream",
     "text": [
      "       user_id       date direction internal  operator_id  is_missed_call  \\\n",
      "37934   167645 2019-10-16       out    False     919126.0           False   \n",
      "12954   166782 2019-10-01       out    False     893804.0            True   \n",
      "21330   167031 2019-10-14       out    False     910520.0            True   \n",
      "35502   167532 2019-10-25       out     True     917850.0            True   \n",
      "20359   167002 2019-10-18       out    False     900492.0            True   \n",
      "\n",
      "       calls_count  call_duration  total_call_duration  \n",
      "37934            7            352                  448  \n",
      "12954           34              0                  877  \n",
      "21330            5              0                  107  \n",
      "35502            1              0                    2  \n",
      "20359            3              0                   16  \n",
      "<class 'pandas.core.frame.DataFrame'>\n",
      "Index: 53785 entries, 0 to 53901\n",
      "Data columns (total 9 columns):\n",
      " #   Column               Non-Null Count  Dtype         \n",
      "---  ------               --------------  -----         \n",
      " 0   user_id              53785 non-null  int64         \n",
      " 1   date                 53785 non-null  datetime64[ns]\n",
      " 2   direction            53785 non-null  object        \n",
      " 3   internal             53785 non-null  object        \n",
      " 4   operator_id          53785 non-null  float64       \n",
      " 5   is_missed_call       53785 non-null  bool          \n",
      " 6   calls_count          53785 non-null  int64         \n",
      " 7   call_duration        53785 non-null  int64         \n",
      " 8   total_call_duration  53785 non-null  int64         \n",
      "dtypes: bool(1), datetime64[ns](1), float64(1), int64(4), object(2)\n",
      "memory usage: 3.7+ MB\n",
      "1093\n"
     ]
    }
   ],
   "source": [
    "\n",
    "# Correcion de tipos de datos en el dataset\n",
    "dataset['date'] = pd.to_datetime(dataset['date'])\n",
    "dataset['date']= dataset['date'].dt.date\n",
    "dataset['date']= pd.to_datetime(dataset['date'], format='%Y-%m-%d')\n",
    "# Eliminar filas vacias\n",
    "\n",
    "dataset = dataset.dropna(subset=['internal'])\n",
    "# Para fines de analisis los valores NAN se sustituiran por 0\n",
    "dataset['operator_id'] = dataset['operator_id'].fillna(0)\n",
    "\n",
    "print(dataset.sample(5))\n",
    "\n",
    "dataset.info()\n",
    "\n",
    "print(dataset['operator_id'].nunique())"
   ]
  },
  {
   "cell_type": "code",
   "execution_count": 415,
   "id": "b3f331c7",
   "metadata": {},
   "outputs": [
    {
     "name": "stdout",
     "output_type": "stream",
     "text": [
      "     user_id tariff_plan date_start\n",
      "353   166604           C 2019-08-12\n",
      "493   166785           B 2019-08-19\n",
      "168   168336           C 2019-10-22\n",
      "695   166530           B 2019-08-07\n",
      "125   168335           C 2019-10-22\n",
      "<class 'pandas.core.frame.DataFrame'>\n",
      "RangeIndex: 732 entries, 0 to 731\n",
      "Data columns (total 3 columns):\n",
      " #   Column       Non-Null Count  Dtype         \n",
      "---  ------       --------------  -----         \n",
      " 0   user_id      732 non-null    int64         \n",
      " 1   tariff_plan  732 non-null    object        \n",
      " 2   date_start   732 non-null    datetime64[ns]\n",
      "dtypes: datetime64[ns](1), int64(1), object(1)\n",
      "memory usage: 17.3+ KB\n"
     ]
    }
   ],
   "source": [
    "# Correcion de tipos de datos en el dataset de clientes\n",
    "\n",
    "clients['date_start'] = pd.to_datetime(clients['date_start'])\n",
    "clients['date_start']= clients['date_start'].dt.date\n",
    "clients['date_start']= pd.to_datetime(clients['date_start'], format='%Y-%m-%d')\n",
    "\n",
    "print(clients.sample(5))\n",
    "clients.info()\n",
    "\n",
    "\n"
   ]
  },
  {
   "cell_type": "markdown",
   "id": "8c5ff30e",
   "metadata": {},
   "source": [
    "## Estadistica descriptiva preliminar para entender la naturaleza de los datos\n",
    "\n"
   ]
  },
  {
   "cell_type": "code",
   "execution_count": 416,
   "id": "f11af0f5",
   "metadata": {},
   "outputs": [
    {
     "name": "stdout",
     "output_type": "stream",
     "text": [
      "\n",
      "Descripción del Dataset de telecomunicaciones:\n",
      "             user_id                           date    operator_id  \\\n",
      "count   53785.000000                          53785   53785.000000   \n",
      "mean   167294.939630  2019-10-23 01:08:38.798921472  778244.735075   \n",
      "min    166377.000000            2019-08-02 00:00:00       0.000000   \n",
      "25%    166782.000000            2019-10-04 00:00:00  890416.000000   \n",
      "50%    167162.000000            2019-10-28 00:00:00  906406.000000   \n",
      "75%    167819.000000            2019-11-14 00:00:00  930020.000000   \n",
      "max    168606.000000            2019-11-28 00:00:00  973286.000000   \n",
      "std       598.998532                            NaN  328641.093195   \n",
      "\n",
      "        calls_count  call_duration  total_call_duration  \n",
      "count  53785.000000   53785.000000         53785.000000  \n",
      "mean      16.482681     868.436162          1159.476174  \n",
      "min        1.000000       0.000000             0.000000  \n",
      "25%        1.000000       0.000000            47.000000  \n",
      "50%        4.000000      38.000000           211.000000  \n",
      "75%       12.000000     574.000000           905.000000  \n",
      "max     4817.000000  144395.000000        166155.000000  \n",
      "std       62.981680    3735.653323          4407.963966  \n"
     ]
    }
   ],
   "source": [
    "## Estadísticas descriptivas del Dataset de telecomunicaciones\n",
    "\n",
    "describe_dataset = dataset.describe()\n",
    "\n",
    "print(\"\\nDescripción del Dataset de telecomunicaciones:\")\n",
    "print(describe_dataset)"
   ]
  },
  {
   "cell_type": "markdown",
   "id": "2fdfd971",
   "metadata": {},
   "source": []
  }
 ],
 "metadata": {
  "kernelspec": {
   "display_name": "Python 3",
   "language": "python",
   "name": "python3"
  },
  "language_info": {
   "codemirror_mode": {
    "name": "ipython",
    "version": 3
   },
   "file_extension": ".py",
   "mimetype": "text/x-python",
   "name": "python",
   "nbconvert_exporter": "python",
   "pygments_lexer": "ipython3",
   "version": "3.13.0"
  }
 },
 "nbformat": 4,
 "nbformat_minor": 5
}
